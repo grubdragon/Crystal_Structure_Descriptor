{
 "cells": [
  {
   "cell_type": "code",
   "execution_count": 1,
   "metadata": {},
   "outputs": [],
   "source": [
    "import numpy as np"
   ]
  },
  {
   "cell_type": "code",
   "execution_count": 2,
   "metadata": {},
   "outputs": [],
   "source": [
    "import sys\n",
    "sys.path.append(\"..\")"
   ]
  },
  {
   "cell_type": "code",
   "execution_count": 3,
   "metadata": {
    "scrolled": true
   },
   "outputs": [],
   "source": [
    "from descriptor import descriptor\n",
    "from helpers.picklers import *"
   ]
  },
  {
   "cell_type": "code",
   "execution_count": 4,
   "metadata": {},
   "outputs": [],
   "source": [
    "%matplotlib inline\n",
    "%load_ext autoreload\n",
    "%autoreload 2"
   ]
  },
  {
   "cell_type": "code",
   "execution_count": 5,
   "metadata": {},
   "outputs": [
    {
     "data": {
      "text/html": [
       "<div>\n",
       "<style scoped>\n",
       "    .dataframe tbody tr th:only-of-type {\n",
       "        vertical-align: middle;\n",
       "    }\n",
       "\n",
       "    .dataframe tbody tr th {\n",
       "        vertical-align: top;\n",
       "    }\n",
       "\n",
       "    .dataframe thead th {\n",
       "        text-align: right;\n",
       "    }\n",
       "</style>\n",
       "<table border=\"1\" class=\"dataframe\">\n",
       "  <thead>\n",
       "    <tr style=\"text-align: right;\">\n",
       "      <th></th>\n",
       "      <th>material_id</th>\n",
       "      <th>energy</th>\n",
       "      <th>energy_per_atom</th>\n",
       "      <th>band_gap</th>\n",
       "      <th>total_magnetization</th>\n",
       "      <th>a</th>\n",
       "      <th>b</th>\n",
       "      <th>c</th>\n",
       "      <th>alpha</th>\n",
       "      <th>beta</th>\n",
       "      <th>gamma</th>\n",
       "    </tr>\n",
       "  </thead>\n",
       "  <tbody>\n",
       "    <tr>\n",
       "      <th>0</th>\n",
       "      <td>mp-1094392</td>\n",
       "      <td>-33.729253</td>\n",
       "      <td>-5.621542</td>\n",
       "      <td>0.0000</td>\n",
       "      <td>0.0002245</td>\n",
       "      <td>5.806096</td>\n",
       "      <td>5.806096</td>\n",
       "      <td>5.474041</td>\n",
       "      <td>90.000000</td>\n",
       "      <td>90.000000</td>\n",
       "      <td>119.999998</td>\n",
       "    </tr>\n",
       "    <tr>\n",
       "      <th>1</th>\n",
       "      <td>mp-1173456</td>\n",
       "      <td>-8.709604</td>\n",
       "      <td>-2.903201</td>\n",
       "      <td>0.5175</td>\n",
       "      <td>2</td>\n",
       "      <td>27.372340</td>\n",
       "      <td>15.803427</td>\n",
       "      <td>12.903445</td>\n",
       "      <td>52.238757</td>\n",
       "      <td>45.000000</td>\n",
       "      <td>30.000002</td>\n",
       "    </tr>\n",
       "    <tr>\n",
       "      <th>2</th>\n",
       "      <td>mp-570451</td>\n",
       "      <td>-63.511145</td>\n",
       "      <td>-6.351115</td>\n",
       "      <td>0.0000</td>\n",
       "      <td>6.35e-06</td>\n",
       "      <td>3.610000</td>\n",
       "      <td>7.749636</td>\n",
       "      <td>8.907661</td>\n",
       "      <td>80.282893</td>\n",
       "      <td>78.308931</td>\n",
       "      <td>76.531294</td>\n",
       "    </tr>\n",
       "    <tr>\n",
       "      <th>3</th>\n",
       "      <td>mp-999189</td>\n",
       "      <td>-30.972868</td>\n",
       "      <td>-7.743217</td>\n",
       "      <td>0.0000</td>\n",
       "      <td>8.12745</td>\n",
       "      <td>3.602000</td>\n",
       "      <td>3.602000</td>\n",
       "      <td>3.602000</td>\n",
       "      <td>90.000000</td>\n",
       "      <td>90.000000</td>\n",
       "      <td>90.000000</td>\n",
       "    </tr>\n",
       "    <tr>\n",
       "      <th>4</th>\n",
       "      <td>mp-979980</td>\n",
       "      <td>-51.244901</td>\n",
       "      <td>-6.405613</td>\n",
       "      <td>0.0000</td>\n",
       "      <td>1.10099</td>\n",
       "      <td>5.421430</td>\n",
       "      <td>5.421423</td>\n",
       "      <td>4.419991</td>\n",
       "      <td>90.000000</td>\n",
       "      <td>90.000000</td>\n",
       "      <td>120.000113</td>\n",
       "    </tr>\n",
       "  </tbody>\n",
       "</table>\n",
       "</div>"
      ],
      "text/plain": [
       "  material_id     energy  energy_per_atom  band_gap total_magnetization  \\\n",
       "0  mp-1094392 -33.729253        -5.621542    0.0000           0.0002245   \n",
       "1  mp-1173456  -8.709604        -2.903201    0.5175                   2   \n",
       "2   mp-570451 -63.511145        -6.351115    0.0000            6.35e-06   \n",
       "3   mp-999189 -30.972868        -7.743217    0.0000             8.12745   \n",
       "4   mp-979980 -51.244901        -6.405613    0.0000             1.10099   \n",
       "\n",
       "           a          b          c      alpha       beta       gamma  \n",
       "0   5.806096   5.806096   5.474041  90.000000  90.000000  119.999998  \n",
       "1  27.372340  15.803427  12.903445  52.238757  45.000000   30.000002  \n",
       "2   3.610000   7.749636   8.907661  80.282893  78.308931   76.531294  \n",
       "3   3.602000   3.602000   3.602000  90.000000  90.000000   90.000000  \n",
       "4   5.421430   5.421423   4.419991  90.000000  90.000000  120.000113  "
      ]
     },
     "execution_count": 5,
     "metadata": {},
     "output_type": "execute_result"
    }
   ],
   "source": [
    "df = load_me('../data/pkls/binary_cell_df.pkl')\n",
    "species = load_me('../data/pkls/binary_species_list.pkl')\n",
    "df.head()"
   ]
  },
  {
   "cell_type": "code",
   "execution_count": 6,
   "metadata": {},
   "outputs": [
    {
     "data": {
      "text/plain": [
       "material_id            mp-999189\n",
       "energy                  -30.9729\n",
       "energy_per_atom         -7.74322\n",
       "band_gap                       0\n",
       "total_magnetization      8.12745\n",
       "a                          3.602\n",
       "b                          3.602\n",
       "c                          3.602\n",
       "alpha                         90\n",
       "beta                          90\n",
       "gamma                         90\n",
       "Name: 3, dtype: object"
      ]
     },
     "execution_count": 6,
     "metadata": {},
     "output_type": "execute_result"
    }
   ],
   "source": [
    "df.iloc[3]"
   ]
  },
  {
   "cell_type": "code",
   "execution_count": 8,
   "metadata": {},
   "outputs": [
    {
     "data": {
      "text/plain": [
       "array([ 2.5       ,  2.44948974,  9.        ,  5.65685425, 40.        ,\n",
       "       40.        ,  3.925     ,  3.92300905,  4.        ,  3.99968749,\n",
       "        2.75588767,  2.7558338 ,  2.02069774,  2.02069774])"
      ]
     },
     "execution_count": 8,
     "metadata": {},
     "output_type": "execute_result"
    }
   ],
   "source": [
    "descriptor(df.iloc[9128], species[9128])"
   ]
  },
  {
   "cell_type": "code",
   "execution_count": null,
   "metadata": {},
   "outputs": [],
   "source": []
  }
 ],
 "metadata": {
  "kernelspec": {
   "display_name": "Python 3",
   "language": "python",
   "name": "python3"
  },
  "language_info": {
   "codemirror_mode": {
    "name": "ipython",
    "version": 3
   },
   "file_extension": ".py",
   "mimetype": "text/x-python",
   "name": "python",
   "nbconvert_exporter": "python",
   "pygments_lexer": "ipython3",
   "version": "3.7.3"
  }
 },
 "nbformat": 4,
 "nbformat_minor": 2
}
