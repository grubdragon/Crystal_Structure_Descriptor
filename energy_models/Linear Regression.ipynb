{
 "cells": [
  {
   "cell_type": "code",
   "execution_count": 1,
   "metadata": {},
   "outputs": [],
   "source": [
    "import numpy as np\n",
    "import pandas as pd\n",
    "import matplotlib.pyplot as plt"
   ]
  },
  {
   "cell_type": "code",
   "execution_count": 2,
   "metadata": {},
   "outputs": [],
   "source": [
    "from sklearn.linear_model import LinearRegression\n",
    "from sklearn.model_selection import cross_val_score\n",
    "from sklearn.preprocessing import StandardScaler"
   ]
  },
  {
   "cell_type": "code",
   "execution_count": 3,
   "metadata": {},
   "outputs": [],
   "source": [
    "%matplotlib inline\n",
    "%load_ext autoreload\n",
    "%autoreload 2"
   ]
  },
  {
   "cell_type": "markdown",
   "metadata": {},
   "source": [
    "Using loader for data"
   ]
  },
  {
   "cell_type": "code",
   "execution_count": 4,
   "metadata": {},
   "outputs": [],
   "source": [
    "import sys\n",
    "sys.path.append(\"..\")"
   ]
  },
  {
   "cell_type": "code",
   "execution_count": 5,
   "metadata": {},
   "outputs": [],
   "source": [
    "from helpers.picklers import *\n",
    "from helpers.data_utils import *"
   ]
  },
  {
   "cell_type": "markdown",
   "metadata": {},
   "source": [
    "Data path"
   ]
  },
  {
   "cell_type": "code",
   "execution_count": 6,
   "metadata": {},
   "outputs": [],
   "source": [
    "data_path = \"../data/descriptor/DescriptorData.csv\""
   ]
  },
  {
   "cell_type": "markdown",
   "metadata": {},
   "source": [
    "Prepare training data for our models"
   ]
  },
  {
   "cell_type": "code",
   "execution_count": 7,
   "metadata": {},
   "outputs": [],
   "source": [
    "# Loading descriptor files\n",
    "df = pd.read_csv(data_path)"
   ]
  },
  {
   "cell_type": "code",
   "execution_count": 8,
   "metadata": {},
   "outputs": [
    {
     "data": {
      "text/html": [
       "<div>\n",
       "<style scoped>\n",
       "    .dataframe tbody tr th:only-of-type {\n",
       "        vertical-align: middle;\n",
       "    }\n",
       "\n",
       "    .dataframe tbody tr th {\n",
       "        vertical-align: top;\n",
       "    }\n",
       "\n",
       "    .dataframe thead th {\n",
       "        text-align: right;\n",
       "    }\n",
       "</style>\n",
       "<table border=\"1\" class=\"dataframe\">\n",
       "  <thead>\n",
       "    <tr style=\"text-align: right;\">\n",
       "      <th></th>\n",
       "      <th>energy</th>\n",
       "      <th>energy_per_atom</th>\n",
       "      <th>band_gap</th>\n",
       "      <th>total_magnetization</th>\n",
       "      <th>0</th>\n",
       "      <th>1</th>\n",
       "      <th>2</th>\n",
       "      <th>3</th>\n",
       "      <th>4</th>\n",
       "      <th>5</th>\n",
       "      <th>6</th>\n",
       "      <th>7</th>\n",
       "      <th>8</th>\n",
       "      <th>9</th>\n",
       "      <th>10</th>\n",
       "      <th>11</th>\n",
       "      <th>12</th>\n",
       "      <th>13</th>\n",
       "    </tr>\n",
       "  </thead>\n",
       "  <tbody>\n",
       "    <tr>\n",
       "      <th>count</th>\n",
       "      <td>18962.000000</td>\n",
       "      <td>18962.000000</td>\n",
       "      <td>18962.000000</td>\n",
       "      <td>1.896100e+04</td>\n",
       "      <td>18962.000000</td>\n",
       "      <td>18962.000000</td>\n",
       "      <td>18962.000000</td>\n",
       "      <td>18962.000000</td>\n",
       "      <td>18962.000000</td>\n",
       "      <td>18962.000000</td>\n",
       "      <td>18962.000000</td>\n",
       "      <td>18962.000000</td>\n",
       "      <td>18962.000000</td>\n",
       "      <td>18962.000000</td>\n",
       "      <td>18962.000000</td>\n",
       "      <td>18962.000000</td>\n",
       "      <td>18962.000000</td>\n",
       "      <td>18962.000000</td>\n",
       "    </tr>\n",
       "    <tr>\n",
       "      <th>mean</th>\n",
       "      <td>-95.830071</td>\n",
       "      <td>-5.306329</td>\n",
       "      <td>0.451718</td>\n",
       "      <td>1.217187e+00</td>\n",
       "      <td>13.254852</td>\n",
       "      <td>3.309276</td>\n",
       "      <td>-4.636984</td>\n",
       "      <td>-3.769513</td>\n",
       "      <td>8.800812</td>\n",
       "      <td>0.920736</td>\n",
       "      <td>5.791024</td>\n",
       "      <td>0.064184</td>\n",
       "      <td>5.935859</td>\n",
       "      <td>-0.441945</td>\n",
       "      <td>3.412756</td>\n",
       "      <td>-0.088312</td>\n",
       "      <td>2.869125</td>\n",
       "      <td>0.009662</td>\n",
       "    </tr>\n",
       "    <tr>\n",
       "      <th>std</th>\n",
       "      <td>164.855659</td>\n",
       "      <td>2.396340</td>\n",
       "      <td>1.179319</td>\n",
       "      <td>5.259865e+00</td>\n",
       "      <td>3.384320</td>\n",
       "      <td>2.111308</td>\n",
       "      <td>4.057872</td>\n",
       "      <td>2.905091</td>\n",
       "      <td>13.075827</td>\n",
       "      <td>7.369018</td>\n",
       "      <td>2.326354</td>\n",
       "      <td>1.849358</td>\n",
       "      <td>1.999380</td>\n",
       "      <td>2.463763</td>\n",
       "      <td>0.792149</td>\n",
       "      <td>0.671106</td>\n",
       "      <td>0.711807</td>\n",
       "      <td>0.338538</td>\n",
       "    </tr>\n",
       "    <tr>\n",
       "      <th>min</th>\n",
       "      <td>-2846.529074</td>\n",
       "      <td>-13.701623</td>\n",
       "      <td>0.000000</td>\n",
       "      <td>0.000000e+00</td>\n",
       "      <td>2.500000</td>\n",
       "      <td>0.000000</td>\n",
       "      <td>-14.500000</td>\n",
       "      <td>-10.000000</td>\n",
       "      <td>1.000000</td>\n",
       "      <td>-120.000000</td>\n",
       "      <td>1.000000</td>\n",
       "      <td>-5.500000</td>\n",
       "      <td>2.000000</td>\n",
       "      <td>-12.617647</td>\n",
       "      <td>0.894385</td>\n",
       "      <td>-7.551524</td>\n",
       "      <td>1.102304</td>\n",
       "      <td>-7.076660</td>\n",
       "    </tr>\n",
       "    <tr>\n",
       "      <th>25%</th>\n",
       "      <td>-94.418136</td>\n",
       "      <td>-7.084322</td>\n",
       "      <td>0.000000</td>\n",
       "      <td>3.500000e-07</td>\n",
       "      <td>11.000000</td>\n",
       "      <td>1.500000</td>\n",
       "      <td>-7.500000</td>\n",
       "      <td>-6.000000</td>\n",
       "      <td>2.000000</td>\n",
       "      <td>-1.000000</td>\n",
       "      <td>4.166667</td>\n",
       "      <td>-1.000000</td>\n",
       "      <td>4.333333</td>\n",
       "      <td>-1.666667</td>\n",
       "      <td>2.924287</td>\n",
       "      <td>-0.460726</td>\n",
       "      <td>2.489369</td>\n",
       "      <td>-0.000003</td>\n",
       "    </tr>\n",
       "    <tr>\n",
       "      <th>50%</th>\n",
       "      <td>-40.617644</td>\n",
       "      <td>-5.076996</td>\n",
       "      <td>0.000000</td>\n",
       "      <td>3.520000e-05</td>\n",
       "      <td>13.500000</td>\n",
       "      <td>3.500000</td>\n",
       "      <td>-4.500000</td>\n",
       "      <td>-4.000000</td>\n",
       "      <td>4.000000</td>\n",
       "      <td>0.000000</td>\n",
       "      <td>5.948043</td>\n",
       "      <td>0.000000</td>\n",
       "      <td>6.000000</td>\n",
       "      <td>-0.000000</td>\n",
       "      <td>3.285963</td>\n",
       "      <td>-0.018106</td>\n",
       "      <td>2.871633</td>\n",
       "      <td>0.000000</td>\n",
       "    </tr>\n",
       "    <tr>\n",
       "      <th>75%</th>\n",
       "      <td>-19.101495</td>\n",
       "      <td>-3.473633</td>\n",
       "      <td>0.000000</td>\n",
       "      <td>1.073695e-01</td>\n",
       "      <td>15.500000</td>\n",
       "      <td>5.000000</td>\n",
       "      <td>-2.000000</td>\n",
       "      <td>-1.500000</td>\n",
       "      <td>9.000000</td>\n",
       "      <td>2.000000</td>\n",
       "      <td>7.000000</td>\n",
       "      <td>1.000000</td>\n",
       "      <td>8.000000</td>\n",
       "      <td>0.646307</td>\n",
       "      <td>3.788326</td>\n",
       "      <td>0.126517</td>\n",
       "      <td>3.189913</td>\n",
       "      <td>0.012342</td>\n",
       "    </tr>\n",
       "    <tr>\n",
       "      <th>max</th>\n",
       "      <td>-1.434844</td>\n",
       "      <td>-0.406819</td>\n",
       "      <td>9.059400</td>\n",
       "      <td>2.140010e+02</td>\n",
       "      <td>21.500000</td>\n",
       "      <td>10.000000</td>\n",
       "      <td>4.500000</td>\n",
       "      <td>3.500000</td>\n",
       "      <td>180.000000</td>\n",
       "      <td>90.000000</td>\n",
       "      <td>12.000000</td>\n",
       "      <td>5.500000</td>\n",
       "      <td>15.441176</td>\n",
       "      <td>10.769231</td>\n",
       "      <td>20.025557</td>\n",
       "      <td>6.674738</td>\n",
       "      <td>19.209523</td>\n",
       "      <td>5.985605</td>\n",
       "    </tr>\n",
       "  </tbody>\n",
       "</table>\n",
       "</div>"
      ],
      "text/plain": [
       "             energy  energy_per_atom      band_gap  total_magnetization  \\\n",
       "count  18962.000000     18962.000000  18962.000000         1.896100e+04   \n",
       "mean     -95.830071        -5.306329      0.451718         1.217187e+00   \n",
       "std      164.855659         2.396340      1.179319         5.259865e+00   \n",
       "min    -2846.529074       -13.701623      0.000000         0.000000e+00   \n",
       "25%      -94.418136        -7.084322      0.000000         3.500000e-07   \n",
       "50%      -40.617644        -5.076996      0.000000         3.520000e-05   \n",
       "75%      -19.101495        -3.473633      0.000000         1.073695e-01   \n",
       "max       -1.434844        -0.406819      9.059400         2.140010e+02   \n",
       "\n",
       "                  0             1             2             3             4  \\\n",
       "count  18962.000000  18962.000000  18962.000000  18962.000000  18962.000000   \n",
       "mean      13.254852      3.309276     -4.636984     -3.769513      8.800812   \n",
       "std        3.384320      2.111308      4.057872      2.905091     13.075827   \n",
       "min        2.500000      0.000000    -14.500000    -10.000000      1.000000   \n",
       "25%       11.000000      1.500000     -7.500000     -6.000000      2.000000   \n",
       "50%       13.500000      3.500000     -4.500000     -4.000000      4.000000   \n",
       "75%       15.500000      5.000000     -2.000000     -1.500000      9.000000   \n",
       "max       21.500000     10.000000      4.500000      3.500000    180.000000   \n",
       "\n",
       "                  5             6             7             8             9  \\\n",
       "count  18962.000000  18962.000000  18962.000000  18962.000000  18962.000000   \n",
       "mean       0.920736      5.791024      0.064184      5.935859     -0.441945   \n",
       "std        7.369018      2.326354      1.849358      1.999380      2.463763   \n",
       "min     -120.000000      1.000000     -5.500000      2.000000    -12.617647   \n",
       "25%       -1.000000      4.166667     -1.000000      4.333333     -1.666667   \n",
       "50%        0.000000      5.948043      0.000000      6.000000     -0.000000   \n",
       "75%        2.000000      7.000000      1.000000      8.000000      0.646307   \n",
       "max       90.000000     12.000000      5.500000     15.441176     10.769231   \n",
       "\n",
       "                 10            11            12            13  \n",
       "count  18962.000000  18962.000000  18962.000000  18962.000000  \n",
       "mean       3.412756     -0.088312      2.869125      0.009662  \n",
       "std        0.792149      0.671106      0.711807      0.338538  \n",
       "min        0.894385     -7.551524      1.102304     -7.076660  \n",
       "25%        2.924287     -0.460726      2.489369     -0.000003  \n",
       "50%        3.285963     -0.018106      2.871633      0.000000  \n",
       "75%        3.788326      0.126517      3.189913      0.012342  \n",
       "max       20.025557      6.674738     19.209523      5.985605  "
      ]
     },
     "execution_count": 8,
     "metadata": {},
     "output_type": "execute_result"
    }
   ],
   "source": [
    "df.describe()"
   ]
  },
  {
   "cell_type": "code",
   "execution_count": 9,
   "metadata": {},
   "outputs": [],
   "source": [
    "# Saving in the object\n",
    "X = df.loc[:, [str(i) for i in range(0, 14)]].to_numpy()\n",
    "y = df.loc[:, \"energy_per_atom\"].to_numpy()"
   ]
  },
  {
   "cell_type": "code",
   "execution_count": 10,
   "metadata": {},
   "outputs": [
    {
     "data": {
      "text/plain": [
       "((18962, 14), (18962,))"
      ]
     },
     "execution_count": 10,
     "metadata": {},
     "output_type": "execute_result"
    }
   ],
   "source": [
    "X.shape, y.shape"
   ]
  },
  {
   "cell_type": "code",
   "execution_count": 11,
   "metadata": {},
   "outputs": [],
   "source": [
    "np.random.seed(42)"
   ]
  },
  {
   "cell_type": "code",
   "execution_count": 12,
   "metadata": {},
   "outputs": [],
   "source": [
    "# Shuffling and Splitting it\n",
    "X_shuffled, y_shuffled, ind = shuffle_data(X, y, None)\n",
    "X_train, y_train, X_test, y_test = split(X_shuffled, y_shuffled)"
   ]
  },
  {
   "cell_type": "code",
   "execution_count": 13,
   "metadata": {},
   "outputs": [
    {
     "data": {
      "text/plain": [
       "((15169, 14), (15169,), (3793, 14), (3793,))"
      ]
     },
     "execution_count": 13,
     "metadata": {},
     "output_type": "execute_result"
    }
   ],
   "source": [
    "X_train.shape, y_train.shape, X_test.shape, y_test.shape"
   ]
  },
  {
   "cell_type": "markdown",
   "metadata": {},
   "source": [
    "Applying Linear Regression to the Data"
   ]
  },
  {
   "cell_type": "code",
   "execution_count": 14,
   "metadata": {},
   "outputs": [
    {
     "data": {
      "text/plain": [
       "LinearRegression(copy_X=True, fit_intercept=True, n_jobs=None, normalize=False)"
      ]
     },
     "execution_count": 14,
     "metadata": {},
     "output_type": "execute_result"
    }
   ],
   "source": [
    "clf = LinearRegression()\n",
    "clf.fit(X_train, y_train)"
   ]
  },
  {
   "cell_type": "markdown",
   "metadata": {},
   "source": [
    "Calculating MSE"
   ]
  },
  {
   "cell_type": "code",
   "execution_count": 15,
   "metadata": {},
   "outputs": [
    {
     "data": {
      "text/plain": [
       "3.604330640160972"
      ]
     },
     "execution_count": 15,
     "metadata": {},
     "output_type": "execute_result"
    }
   ],
   "source": [
    "y_pred = clf.predict(X_test)\n",
    "np.mean(np.square(y_test - y_pred))"
   ]
  },
  {
   "cell_type": "markdown",
   "metadata": {},
   "source": [
    "Apply Standard Scaler"
   ]
  },
  {
   "cell_type": "code",
   "execution_count": 16,
   "metadata": {},
   "outputs": [],
   "source": [
    "scaler = StandardScaler()\n",
    "X_train = scaler.fit_transform(X_train)\n",
    "X_test = scaler.transform(X_test)"
   ]
  },
  {
   "cell_type": "markdown",
   "metadata": {},
   "source": [
    "Retraining"
   ]
  },
  {
   "cell_type": "code",
   "execution_count": 17,
   "metadata": {
    "scrolled": true
   },
   "outputs": [
    {
     "data": {
      "text/plain": [
       "LinearRegression(copy_X=True, fit_intercept=True, n_jobs=None, normalize=False)"
      ]
     },
     "execution_count": 17,
     "metadata": {},
     "output_type": "execute_result"
    }
   ],
   "source": [
    "clf = LinearRegression()\n",
    "clf.fit(X_train, y_train)"
   ]
  },
  {
   "cell_type": "markdown",
   "metadata": {},
   "source": [
    "Calculating MSE"
   ]
  },
  {
   "cell_type": "code",
   "execution_count": 18,
   "metadata": {},
   "outputs": [
    {
     "data": {
      "text/plain": [
       "3.6043306401609714"
      ]
     },
     "execution_count": 18,
     "metadata": {},
     "output_type": "execute_result"
    }
   ],
   "source": [
    "y_pred = clf.predict(X_test)\n",
    "np.mean(np.square(y_test - y_pred))"
   ]
  },
  {
   "cell_type": "markdown",
   "metadata": {},
   "source": [
    "Checking the coefficients"
   ]
  },
  {
   "cell_type": "code",
   "execution_count": 19,
   "metadata": {},
   "outputs": [
    {
     "data": {
      "text/plain": [
       "array([-0.58525709,  1.31136753, -1.23925249,  1.35888831, -0.22282615,\n",
       "        0.2884042 , -0.13628736,  0.02847524,  0.12008086,  0.00771974,\n",
       "        0.58713191, -0.0503738 ,  0.75102788, -0.06006075])"
      ]
     },
     "execution_count": 19,
     "metadata": {},
     "output_type": "execute_result"
    }
   ],
   "source": [
    "clf.coef_"
   ]
  },
  {
   "cell_type": "code",
   "execution_count": 20,
   "metadata": {},
   "outputs": [
    {
     "data": {
      "text/plain": [
       "[9, 7, 11, 13, 8, 6, 4, 5, 0, 10, 12, 2, 1, 3]"
      ]
     },
     "execution_count": 20,
     "metadata": {},
     "output_type": "execute_result"
    }
   ],
   "source": [
    "sorted(np.arange(len(clf.coef_)), key=lambda x: abs(clf.coef_[x]))"
   ]
  }
 ],
 "metadata": {
  "kernelspec": {
   "display_name": "Python 3",
   "language": "python",
   "name": "python3"
  },
  "language_info": {
   "codemirror_mode": {
    "name": "ipython",
    "version": 3
   },
   "file_extension": ".py",
   "mimetype": "text/x-python",
   "name": "python",
   "nbconvert_exporter": "python",
   "pygments_lexer": "ipython3",
   "version": "3.7.4"
  },
  "varInspector": {
   "cols": {
    "lenName": 16,
    "lenType": 16,
    "lenVar": 40
   },
   "kernels_config": {
    "python": {
     "delete_cmd_postfix": "",
     "delete_cmd_prefix": "del ",
     "library": "var_list.py",
     "varRefreshCmd": "print(var_dic_list())"
    },
    "r": {
     "delete_cmd_postfix": ") ",
     "delete_cmd_prefix": "rm(",
     "library": "var_list.r",
     "varRefreshCmd": "cat(var_dic_list()) "
    }
   },
   "types_to_exclude": [
    "module",
    "function",
    "builtin_function_or_method",
    "instance",
    "_Feature"
   ],
   "window_display": false
  }
 },
 "nbformat": 4,
 "nbformat_minor": 2
}
