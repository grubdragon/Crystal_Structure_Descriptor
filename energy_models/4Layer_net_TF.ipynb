{
 "cells": [
  {
   "cell_type": "code",
   "execution_count": 1,
   "metadata": {},
   "outputs": [],
   "source": [
    "import pandas as pd\n",
    "import numpy as np\n",
    "from sklearn.metrics import mean_absolute_error\n",
    "from sklearn import preprocessing\n",
    "from sklearn.model_selection import train_test_split\n",
    "import random\n",
    "\n",
    "import pathlib\n",
    "import os\n",
    "import matplotlib.pyplot as plt\n",
    "\n",
    "#from tensorflow_docs.plots import HistoryPlotter\n",
    "#from tensorflow_docs.modeling import EpochDots\n",
    "import tensorflow as tf\n",
    "from tensorflow import keras\n",
    "from tensorflow.keras import layers\n",
    "\n",
    "tf.keras.backend.set_floatx('float64')"
   ]
  },
  {
   "cell_type": "code",
   "execution_count": 2,
   "metadata": {},
   "outputs": [],
   "source": [
    "#set seed\n",
    "np.random.seed(42)\n",
    "tf.random.set_seed(42)"
   ]
  },
  {
   "cell_type": "code",
   "execution_count": 3,
   "metadata": {},
   "outputs": [],
   "source": [
    "import sys\n",
    "sys.path.append('..')"
   ]
  },
  {
   "cell_type": "code",
   "execution_count": 4,
   "metadata": {},
   "outputs": [
    {
     "data": {
      "text/plain": [
       "Index(['material_id', 'energy', 'energy_per_atom', 'band_gap',\n",
       "       'total_magnetization', '0', '1', '2', '3', '4', '5', '6', '7', '8', '9',\n",
       "       '10', '11', '12', '13'],\n",
       "      dtype='object')"
      ]
     },
     "execution_count": 4,
     "metadata": {},
     "output_type": "execute_result"
    }
   ],
   "source": [
    "#Load data\n",
    "path = \"../data/descriptor/DescriptorData.csv\"\n",
    "df=pd.read_csv(path)\n",
    "df.columns"
   ]
  },
  {
   "cell_type": "code",
   "execution_count": 5,
   "metadata": {},
   "outputs": [
    {
     "data": {
      "text/html": [
       "<div>\n",
       "<style scoped>\n",
       "    .dataframe tbody tr th:only-of-type {\n",
       "        vertical-align: middle;\n",
       "    }\n",
       "\n",
       "    .dataframe tbody tr th {\n",
       "        vertical-align: top;\n",
       "    }\n",
       "\n",
       "    .dataframe thead th {\n",
       "        text-align: right;\n",
       "    }\n",
       "</style>\n",
       "<table border=\"1\" class=\"dataframe\">\n",
       "  <thead>\n",
       "    <tr style=\"text-align: right;\">\n",
       "      <th></th>\n",
       "      <th>material_id</th>\n",
       "      <th>energy</th>\n",
       "      <th>energy_per_atom</th>\n",
       "      <th>band_gap</th>\n",
       "      <th>total_magnetization</th>\n",
       "      <th>0</th>\n",
       "      <th>1</th>\n",
       "      <th>2</th>\n",
       "      <th>3</th>\n",
       "      <th>4</th>\n",
       "      <th>5</th>\n",
       "      <th>6</th>\n",
       "      <th>7</th>\n",
       "      <th>8</th>\n",
       "      <th>9</th>\n",
       "      <th>10</th>\n",
       "      <th>11</th>\n",
       "      <th>12</th>\n",
       "      <th>13</th>\n",
       "    </tr>\n",
       "  </thead>\n",
       "  <tbody>\n",
       "    <tr>\n",
       "      <th>16657</th>\n",
       "      <td>mp-19395</td>\n",
       "      <td>-85.492408</td>\n",
       "      <td>-7.124367</td>\n",
       "      <td>1.0729</td>\n",
       "      <td>1.500000e-07</td>\n",
       "      <td>14.5</td>\n",
       "      <td>3.5</td>\n",
       "      <td>-8.5</td>\n",
       "      <td>-5.5</td>\n",
       "      <td>6.0</td>\n",
       "      <td>2.0</td>\n",
       "      <td>4.5</td>\n",
       "      <td>0.5</td>\n",
       "      <td>4.5</td>\n",
       "      <td>-1.5</td>\n",
       "      <td>2.688062</td>\n",
       "      <td>-0.187277</td>\n",
       "      <td>1.902257</td>\n",
       "      <td>0.004483</td>\n",
       "    </tr>\n",
       "  </tbody>\n",
       "</table>\n",
       "</div>"
      ],
      "text/plain": [
       "      material_id     energy  energy_per_atom  band_gap  total_magnetization  \\\n",
       "16657    mp-19395 -85.492408        -7.124367    1.0729         1.500000e-07   \n",
       "\n",
       "          0    1    2    3    4    5    6    7    8    9        10        11  \\\n",
       "16657  14.5  3.5 -8.5 -5.5  6.0  2.0  4.5  0.5  4.5 -1.5  2.688062 -0.187277   \n",
       "\n",
       "             12        13  \n",
       "16657  1.902257  0.004483  "
      ]
     },
     "execution_count": 5,
     "metadata": {},
     "output_type": "execute_result"
    }
   ],
   "source": [
    "#Inspect data\n",
    "df[df[\"material_id\"]==\"mp-19395\"]"
   ]
  },
  {
   "cell_type": "code",
   "execution_count": 6,
   "metadata": {},
   "outputs": [
    {
     "data": {
      "text/html": [
       "<div>\n",
       "<style scoped>\n",
       "    .dataframe tbody tr th:only-of-type {\n",
       "        vertical-align: middle;\n",
       "    }\n",
       "\n",
       "    .dataframe tbody tr th {\n",
       "        vertical-align: top;\n",
       "    }\n",
       "\n",
       "    .dataframe thead th {\n",
       "        text-align: right;\n",
       "    }\n",
       "</style>\n",
       "<table border=\"1\" class=\"dataframe\">\n",
       "  <thead>\n",
       "    <tr style=\"text-align: right;\">\n",
       "      <th></th>\n",
       "      <th>0</th>\n",
       "      <th>1</th>\n",
       "      <th>2</th>\n",
       "      <th>3</th>\n",
       "      <th>4</th>\n",
       "      <th>5</th>\n",
       "      <th>6</th>\n",
       "      <th>7</th>\n",
       "      <th>8</th>\n",
       "      <th>9</th>\n",
       "      <th>10</th>\n",
       "      <th>11</th>\n",
       "      <th>12</th>\n",
       "      <th>13</th>\n",
       "    </tr>\n",
       "  </thead>\n",
       "  <tbody>\n",
       "    <tr>\n",
       "      <th>0</th>\n",
       "      <td>6.5</td>\n",
       "      <td>1.5</td>\n",
       "      <td>1.5</td>\n",
       "      <td>0.5</td>\n",
       "      <td>3.0</td>\n",
       "      <td>2.0</td>\n",
       "      <td>8.800000</td>\n",
       "      <td>0.800000</td>\n",
       "      <td>7.20000</td>\n",
       "      <td>-4.800000</td>\n",
       "      <td>4.413094</td>\n",
       "      <td>-1.060947</td>\n",
       "      <td>3.352150</td>\n",
       "      <td>0.000002</td>\n",
       "    </tr>\n",
       "    <tr>\n",
       "      <th>1</th>\n",
       "      <td>17.5</td>\n",
       "      <td>3.5</td>\n",
       "      <td>-9.5</td>\n",
       "      <td>-3.5</td>\n",
       "      <td>1.5</td>\n",
       "      <td>0.5</td>\n",
       "      <td>3.500000</td>\n",
       "      <td>-2.500000</td>\n",
       "      <td>3.00000</td>\n",
       "      <td>1.000000</td>\n",
       "      <td>8.805744</td>\n",
       "      <td>-4.097701</td>\n",
       "      <td>6.857758</td>\n",
       "      <td>4.503737</td>\n",
       "    </tr>\n",
       "    <tr>\n",
       "      <th>2</th>\n",
       "      <td>15.5</td>\n",
       "      <td>5.5</td>\n",
       "      <td>-5.5</td>\n",
       "      <td>-5.5</td>\n",
       "      <td>5.0</td>\n",
       "      <td>1.0</td>\n",
       "      <td>4.333333</td>\n",
       "      <td>2.333333</td>\n",
       "      <td>5.00000</td>\n",
       "      <td>-1.000000</td>\n",
       "      <td>3.188573</td>\n",
       "      <td>0.141018</td>\n",
       "      <td>2.782234</td>\n",
       "      <td>0.020056</td>\n",
       "    </tr>\n",
       "    <tr>\n",
       "      <th>3</th>\n",
       "      <td>13.0</td>\n",
       "      <td>1.0</td>\n",
       "      <td>-5.0</td>\n",
       "      <td>-1.0</td>\n",
       "      <td>2.0</td>\n",
       "      <td>-1.0</td>\n",
       "      <td>7.000000</td>\n",
       "      <td>-1.000000</td>\n",
       "      <td>8.00000</td>\n",
       "      <td>4.000000</td>\n",
       "      <td>3.074499</td>\n",
       "      <td>0.527501</td>\n",
       "      <td>2.546999</td>\n",
       "      <td>-0.000000</td>\n",
       "    </tr>\n",
       "    <tr>\n",
       "      <th>4</th>\n",
       "      <td>12.0</td>\n",
       "      <td>3.0</td>\n",
       "      <td>-3.0</td>\n",
       "      <td>-2.0</td>\n",
       "      <td>4.0</td>\n",
       "      <td>2.0</td>\n",
       "      <td>7.000000</td>\n",
       "      <td>1.000000</td>\n",
       "      <td>8.00000</td>\n",
       "      <td>-4.000000</td>\n",
       "      <td>3.246873</td>\n",
       "      <td>-0.584746</td>\n",
       "      <td>2.691912</td>\n",
       "      <td>0.000007</td>\n",
       "    </tr>\n",
       "    <tr>\n",
       "      <th>...</th>\n",
       "      <td>...</td>\n",
       "      <td>...</td>\n",
       "      <td>...</td>\n",
       "      <td>...</td>\n",
       "      <td>...</td>\n",
       "      <td>...</td>\n",
       "      <td>...</td>\n",
       "      <td>...</td>\n",
       "      <td>...</td>\n",
       "      <td>...</td>\n",
       "      <td>...</td>\n",
       "      <td>...</td>\n",
       "      <td>...</td>\n",
       "      <td>...</td>\n",
       "    </tr>\n",
       "    <tr>\n",
       "      <th>18957</th>\n",
       "      <td>20.0</td>\n",
       "      <td>1.0</td>\n",
       "      <td>-13.0</td>\n",
       "      <td>2.0</td>\n",
       "      <td>10.0</td>\n",
       "      <td>-6.0</td>\n",
       "      <td>2.375000</td>\n",
       "      <td>-0.375000</td>\n",
       "      <td>2.50000</td>\n",
       "      <td>0.500000</td>\n",
       "      <td>3.380378</td>\n",
       "      <td>0.891985</td>\n",
       "      <td>2.384921</td>\n",
       "      <td>-0.510342</td>\n",
       "    </tr>\n",
       "    <tr>\n",
       "      <th>18958</th>\n",
       "      <td>14.5</td>\n",
       "      <td>5.5</td>\n",
       "      <td>-4.5</td>\n",
       "      <td>-7.5</td>\n",
       "      <td>9.0</td>\n",
       "      <td>3.0</td>\n",
       "      <td>4.000000</td>\n",
       "      <td>-0.000000</td>\n",
       "      <td>3.00000</td>\n",
       "      <td>-1.000000</td>\n",
       "      <td>5.153850</td>\n",
       "      <td>-0.563046</td>\n",
       "      <td>2.996383</td>\n",
       "      <td>-0.005741</td>\n",
       "    </tr>\n",
       "    <tr>\n",
       "      <th>18959</th>\n",
       "      <td>15.0</td>\n",
       "      <td>5.0</td>\n",
       "      <td>-4.0</td>\n",
       "      <td>-8.0</td>\n",
       "      <td>1.0</td>\n",
       "      <td>0.0</td>\n",
       "      <td>6.000000</td>\n",
       "      <td>0.000000</td>\n",
       "      <td>8.00000</td>\n",
       "      <td>0.000000</td>\n",
       "      <td>3.600000</td>\n",
       "      <td>0.000000</td>\n",
       "      <td>3.117691</td>\n",
       "      <td>0.000000</td>\n",
       "    </tr>\n",
       "    <tr>\n",
       "      <th>18960</th>\n",
       "      <td>18.5</td>\n",
       "      <td>0.5</td>\n",
       "      <td>-13.5</td>\n",
       "      <td>-1.5</td>\n",
       "      <td>6.0</td>\n",
       "      <td>4.0</td>\n",
       "      <td>4.200000</td>\n",
       "      <td>-1.800000</td>\n",
       "      <td>5.40000</td>\n",
       "      <td>0.400000</td>\n",
       "      <td>3.324509</td>\n",
       "      <td>-1.130982</td>\n",
       "      <td>2.717591</td>\n",
       "      <td>1.195841</td>\n",
       "    </tr>\n",
       "    <tr>\n",
       "      <th>18961</th>\n",
       "      <td>12.5</td>\n",
       "      <td>3.5</td>\n",
       "      <td>-1.5</td>\n",
       "      <td>-4.5</td>\n",
       "      <td>32.5</td>\n",
       "      <td>18.5</td>\n",
       "      <td>4.691877</td>\n",
       "      <td>2.406162</td>\n",
       "      <td>8.87605</td>\n",
       "      <td>-5.052521</td>\n",
       "      <td>3.480985</td>\n",
       "      <td>-0.678666</td>\n",
       "      <td>3.185616</td>\n",
       "      <td>0.030684</td>\n",
       "    </tr>\n",
       "  </tbody>\n",
       "</table>\n",
       "<p>18962 rows × 14 columns</p>\n",
       "</div>"
      ],
      "text/plain": [
       "          0    1     2    3     4     5         6         7        8  \\\n",
       "0       6.5  1.5   1.5  0.5   3.0   2.0  8.800000  0.800000  7.20000   \n",
       "1      17.5  3.5  -9.5 -3.5   1.5   0.5  3.500000 -2.500000  3.00000   \n",
       "2      15.5  5.5  -5.5 -5.5   5.0   1.0  4.333333  2.333333  5.00000   \n",
       "3      13.0  1.0  -5.0 -1.0   2.0  -1.0  7.000000 -1.000000  8.00000   \n",
       "4      12.0  3.0  -3.0 -2.0   4.0   2.0  7.000000  1.000000  8.00000   \n",
       "...     ...  ...   ...  ...   ...   ...       ...       ...      ...   \n",
       "18957  20.0  1.0 -13.0  2.0  10.0  -6.0  2.375000 -0.375000  2.50000   \n",
       "18958  14.5  5.5  -4.5 -7.5   9.0   3.0  4.000000 -0.000000  3.00000   \n",
       "18959  15.0  5.0  -4.0 -8.0   1.0   0.0  6.000000  0.000000  8.00000   \n",
       "18960  18.5  0.5 -13.5 -1.5   6.0   4.0  4.200000 -1.800000  5.40000   \n",
       "18961  12.5  3.5  -1.5 -4.5  32.5  18.5  4.691877  2.406162  8.87605   \n",
       "\n",
       "              9        10        11        12        13  \n",
       "0     -4.800000  4.413094 -1.060947  3.352150  0.000002  \n",
       "1      1.000000  8.805744 -4.097701  6.857758  4.503737  \n",
       "2     -1.000000  3.188573  0.141018  2.782234  0.020056  \n",
       "3      4.000000  3.074499  0.527501  2.546999 -0.000000  \n",
       "4     -4.000000  3.246873 -0.584746  2.691912  0.000007  \n",
       "...         ...       ...       ...       ...       ...  \n",
       "18957  0.500000  3.380378  0.891985  2.384921 -0.510342  \n",
       "18958 -1.000000  5.153850 -0.563046  2.996383 -0.005741  \n",
       "18959  0.000000  3.600000  0.000000  3.117691  0.000000  \n",
       "18960  0.400000  3.324509 -1.130982  2.717591  1.195841  \n",
       "18961 -5.052521  3.480985 -0.678666  3.185616  0.030684  \n",
       "\n",
       "[18962 rows x 14 columns]"
      ]
     },
     "execution_count": 6,
     "metadata": {},
     "output_type": "execute_result"
    }
   ],
   "source": [
    "y=df[\"energy_per_atom\"] #select feature to predict\n",
    "toDrop=[\"material_id\", \"total_magnetization\", \"energy\", \"energy_per_atom\", \"band_gap\"] #drop the other predicted features, and id\n",
    "X=df.drop(columns=toDrop) #drop these unwanted features\n",
    "X"
   ]
  },
  {
   "cell_type": "code",
   "execution_count": 7,
   "metadata": {},
   "outputs": [],
   "source": [
    "#For devices with no gpu, run this to hard code running on cpu\n",
    "os.environ['CUDA_VISIBLE_DEVICES'] = '-1'\n",
    "import tensorflow as tf #reimport tesnorflow to make it work"
   ]
  },
  {
   "cell_type": "code",
   "execution_count": 8,
   "metadata": {},
   "outputs": [
    {
     "data": {
      "text/plain": [
       "count    18962.000000\n",
       "mean        -5.306329\n",
       "std          2.396340\n",
       "min        -13.701623\n",
       "25%         -7.084322\n",
       "50%         -5.076996\n",
       "75%         -3.473633\n",
       "max         -0.406819\n",
       "Name: energy_per_atom, dtype: float64"
      ]
     },
     "execution_count": 8,
     "metadata": {},
     "output_type": "execute_result"
    }
   ],
   "source": [
    "y_mean=y.describe()[\"mean\"]\n",
    "y.describe() #print info about the data we want to predict. "
   ]
  },
  {
   "cell_type": "code",
   "execution_count": 9,
   "metadata": {},
   "outputs": [],
   "source": [
    "#split input data into train and test datasets, using sklearn \n",
    "#test_size determines fraction for test set\n",
    "train_X, val_X, train_y, val_y = train_test_split(X, y, random_state = 42, test_size=0.20) \n",
    "train_X, val_X=train_X.to_numpy(), val_X.to_numpy()      #transfrom into numpy arrays"
   ]
  },
  {
   "cell_type": "code",
   "execution_count": 10,
   "metadata": {},
   "outputs": [],
   "source": [
    "#Normalize input\n",
    "normalize=False                             #Normalization not done, experimentation showed it made network learning worse\n",
    "if normalize:                       \n",
    "    normaliser = preprocessing.Normalizer() #create a sklearn normlaizer\n",
    "\n",
    "    train_X=normaliser.fit_transform(train_X) #fit it and transform taining data\n",
    "    val_X=normaliser.transform(val_X) #use normalizer fitted to training data to normalize validation set"
   ]
  },
  {
   "cell_type": "code",
   "execution_count": 11,
   "metadata": {},
   "outputs": [
    {
     "name": "stdout",
     "output_type": "stream",
     "text": [
      "tf.Tensor(\n",
      "[[ 7.00000000e+00  2.00000000e+00  1.00000000e+00 -0.00000000e+00\n",
      "   1.00000000e+00 -0.00000000e+00  6.00000000e+00 -0.00000000e+00\n",
      "   8.00000000e+00 -0.00000000e+00  3.52921500e+00 -0.00000000e+00\n",
      "   3.05638985e+00 -0.00000000e+00]\n",
      " [ 1.25000000e+01  4.50000000e+00 -1.50000000e+00 -5.50000000e+00\n",
      "   1.90000000e+01  1.20000000e+01  5.91705069e+00 -3.68663594e-01\n",
      "   7.33179724e+00 -3.52534562e+00  4.21782865e+00 -1.21591730e+00\n",
      "   3.67584581e+00  9.47936229e-02]\n",
      " [ 2.00000000e+01  2.00000000e+00 -9.00000000e+00 -3.00000000e+00\n",
      "   1.20000000e+01  4.00000000e+00  8.00000000e+00  4.00000000e+00\n",
      "   3.00000000e+00 -1.00000000e+00  4.38002775e+00 -2.60846518e-08\n",
      "   2.68383659e+00  4.06497709e-08]\n",
      " [ 1.20000000e+01  2.00000000e+00 -2.00000000e+00 -2.00000000e+00\n",
      "   4.00000000e+00  2.00000000e+00  7.00000000e+00  1.00000000e+00\n",
      "   8.00000000e+00 -4.00000000e+00  3.17599390e+00 -5.61579160e-01\n",
      "   2.63869189e+00  3.64378230e-06]\n",
      " [ 1.05000000e+01  1.50000000e+00 -5.00000000e-01 -3.50000000e+00\n",
      "   1.45000000e+01  8.50000000e+00  6.00000000e+00  2.00000000e+00\n",
      "   7.69565217e+00 -4.30434783e+00  2.98738028e+00 -4.98326634e-01\n",
      "   2.96744532e+00  3.97806749e-02]], shape=(5, 14), dtype=float64)\n",
      "(128, 14)\n",
      "Data preprocessed\n"
     ]
    }
   ],
   "source": [
    "batch_size=128\n",
    "train_len=train_X.shape[0]\n",
    "val_len=val_X.shape[0]\n",
    "train_dataset = tf.data.Dataset.from_tensor_slices((train_X, train_y))#make dataset from pandas dfs\n",
    "test_dataset=tf.data.Dataset.from_tensor_slices((val_X, val_y))\n",
    "                                  \n",
    "test_dataset = test_dataset.shuffle(val_len, seed=42).batch(batch_size) #shuffle datasets, batch them with batch_size\n",
    "train_dataset = train_dataset.shuffle(train_len, seed=42).batch(batch_size)\n",
    "\n",
    "features, labels=next(iter(train_dataset)) #just test and print some example feature matrices\n",
    "\n",
    "print(features[:5])\n",
    "print(features.shape) #shape of input tensor\n",
    "print(\"Data preprocessed\")"
   ]
  },
  {
   "cell_type": "code",
   "execution_count": 12,
   "metadata": {},
   "outputs": [
    {
     "data": {
      "text/plain": [
       "<tf.Tensor: id=53, shape=(5,), dtype=float32, numpy=\n",
       "array([-4.9853425, -1.3426412, -1.4285034, -8.539671 , -7.731565 ],\n",
       "      dtype=float32)>"
      ]
     },
     "execution_count": 12,
     "metadata": {},
     "output_type": "execute_result"
    }
   ],
   "source": [
    "labels[:5] #check that labels look good"
   ]
  },
  {
   "cell_type": "markdown",
   "metadata": {},
   "source": [
    "Now, build model. Start with simple 2 layer NN"
   ]
  },
  {
   "cell_type": "code",
   "execution_count": 13,
   "metadata": {},
   "outputs": [
    {
     "name": "stdout",
     "output_type": "stream",
     "text": [
      "Model: \"sequential\"\n",
      "_________________________________________________________________\n",
      "Layer (type)                 Output Shape              Param #   \n",
      "=================================================================\n",
      "dense (Dense)                (None, 50)                750       \n",
      "_________________________________________________________________\n",
      "batch_normalization (BatchNo (None, 50)                200       \n",
      "_________________________________________________________________\n",
      "dropout (Dropout)            (None, 50)                0         \n",
      "_________________________________________________________________\n",
      "dense_1 (Dense)              (None, 50)                2550      \n",
      "_________________________________________________________________\n",
      "batch_normalization_1 (Batch (None, 50)                200       \n",
      "_________________________________________________________________\n",
      "dropout_1 (Dropout)          (None, 50)                0         \n",
      "_________________________________________________________________\n",
      "dense_2 (Dense)              (None, 50)                2550      \n",
      "_________________________________________________________________\n",
      "batch_normalization_2 (Batch (None, 50)                200       \n",
      "_________________________________________________________________\n",
      "dropout_2 (Dropout)          (None, 50)                0         \n",
      "_________________________________________________________________\n",
      "dense_3 (Dense)              (None, 1)                 51        \n",
      "=================================================================\n",
      "Total params: 6,501\n",
      "Trainable params: 6,201\n",
      "Non-trainable params: 300\n",
      "_________________________________________________________________\n",
      "None\n"
     ]
    }
   ],
   "source": [
    "def build_model():\n",
    "\n",
    "    initial=tf.keras.initializers.he_normal(seed=42) #create initializer for \n",
    "\n",
    "    \n",
    "    model = keras.Sequential([\n",
    "        layers.Dense(50, activation='relu', input_shape=[features.shape[1]], \n",
    "                    kernel_initializer=initial,\n",
    "                bias_initializer='zeros'), #first layer, takes input, 50 nodes\n",
    "        layers.BatchNormalization(), #batch normalization\n",
    "        layers.Dropout(0.5), #dropout\n",
    "        layers.Dense(50, activation='relu', kernel_initializer=initial, bias_initializer='zeros'), #second layer\n",
    "        layers.BatchNormalization(), #batch normalization\n",
    "        layers.Dropout(0.5), #dropout\n",
    "        layers.Dense(50, activation='relu', kernel_initializer=initial, bias_initializer='zeros'), #third layer\n",
    "        layers.BatchNormalization(), #batch normalization\n",
    "        layers.Dropout(0.5), #dropout\n",
    "        layers.Dense(1, kernel_initializer=\"zeros\", \n",
    "                     bias_initializer=keras.initializers.Constant(value=y_mean)) #output\n",
    "      ])  \n",
    "    return model\n",
    "\n",
    "model = build_model()\n",
    "print(model.summary())"
   ]
  },
  {
   "cell_type": "code",
   "execution_count": 14,
   "metadata": {},
   "outputs": [],
   "source": [
    "def mse(model, x, y): #calculate loss during training\n",
    "    loss_Obj=tf.keras.losses.MeanSquaredError() #create a loss object to track losses\n",
    "    y_pred=model(x) #feed forward network\n",
    "    return loss_Obj(y_true=y, y_pred=y_pred) #calculate loss, return keras lossObj\n",
    "\n",
    "def grad(model, inputs, targets): #calculate gradients during backprop\n",
    "    with tf.GradientTape() as tape: #tensorflow gradienttape calculates gradients for all operations it is applied to\n",
    "        loss_value=mse(model, inputs, targets) #feed forward, calculate loss. tape is tracking thiS calculation!\n",
    "        return loss_value, tape.gradient(loss_value, model.trainable_variables) #return loss and gradients"
   ]
  },
  {
   "cell_type": "code",
   "execution_count": 15,
   "metadata": {},
   "outputs": [
    {
     "name": "stdout",
     "output_type": "stream",
     "text": [
      "Measuring time\n",
      "One epoch, time in minutes:\n",
      "0.07644506295522054\n"
     ]
    }
   ],
   "source": [
    "#This cell is only to test how long the training of network during one epoch takes\n",
    "import time\n",
    "optimizer = tf.keras.optimizers.Adam(5e-5) #use Adam optimizer\n",
    "print(\"Measuring time\")\n",
    "start_time=time.time() #start timer\n",
    "for x,y in train_dataset:    #iterate through all batches in dataset\n",
    "    loss_value, grads=grad(model, x, y) #calculate loss and gradients\n",
    "    optimizer.apply_gradients(zip(grads, model.trainable_variables)) #apply gradients to weights of model, using tf apply gradients function\n",
    "    #print(loss_value)\n",
    "print(\"One epoch, time in minutes:\")\n",
    "print((time.time()-start_time)/60)     #time in minutes  "
   ]
  },
  {
   "cell_type": "code",
   "execution_count": 16,
   "metadata": {},
   "outputs": [
    {
     "name": "stdout",
     "output_type": "stream",
     "text": [
      "Started training\n",
      "Epoch000: Train loss 5.391, test loss 5.194.\n",
      "Epoch020: Train loss 1.710, test loss 1.664.\n",
      "Epoch040: Train loss 1.397, test loss 1.405.\n",
      "Epoch060: Train loss 1.264, test loss 1.274.\n",
      "Epoch080: Train loss 1.182, test loss 1.215.\n",
      "Epoch100: Train loss 1.128, test loss 1.195.\n",
      "Epoch120: Train loss 1.081, test loss 1.125.\n",
      "Epoch140: Train loss 1.046, test loss 1.117.\n",
      "Epoch160: Train loss 1.019, test loss 1.072.\n",
      "Epoch180: Train loss 0.999, test loss 1.049.\n",
      "Epoch200: Train loss 0.972, test loss 1.051.\n",
      "Epoch220: Train loss 0.956, test loss 1.014.\n",
      "Epoch240: Train loss 0.942, test loss 1.007.\n",
      "Epoch260: Train loss 0.919, test loss 0.977.\n",
      "Epoch280: Train loss 0.899, test loss 0.973.\n",
      "Epoch300: Train loss 0.896, test loss 0.987.\n",
      "Epoch320: Train loss 0.876, test loss 0.946.\n",
      "Epoch340: Train loss 0.872, test loss 0.939.\n",
      "Epoch360: Train loss 0.858, test loss 0.937.\n",
      "Epoch380: Train loss 0.845, test loss 0.921.\n",
      "Epoch400: Train loss 0.843, test loss 0.928.\n",
      "Epoch420: Train loss 0.830, test loss 0.901.\n",
      "Epoch440: Train loss 0.826, test loss 0.907.\n",
      "Epoch460: Train loss 0.822, test loss 0.908.\n",
      "Epoch480: Train loss 0.803, test loss 0.890.\n"
     ]
    }
   ],
   "source": [
    "#Main training loop\n",
    "EPOCHS = 500 #number of epochs\n",
    "optimizer = tf.keras.optimizers.Adam(1.5e-4)#use Adam optimizer\n",
    "train_losses=np.zeros(EPOCHS) #train losses to save\n",
    "val_losses=np.zeros(EPOCHS) #validation set losses to save\n",
    "print(\"Started training\")\n",
    "for i in range(EPOCHS):\n",
    "    epoch_loss_avg=tf.keras.metrics.Mean()      #keep track of mean training loss over the epoch\n",
    "    val_loss_avg=tf.keras.metrics.Mean()        #keep track of mean validation loss over the epoch\n",
    "    for x,y in train_dataset:                   #iterate through all batches in training dataset\n",
    "        loss_value, grads=grad(model, x, y)     #feedforward, then backprop to calculate loss and gradients\n",
    "        optimizer.apply_gradients(zip(grads, model.trainable_variables)) #apply gradients to weights of model, using tf apply gradients function\n",
    "        epoch_loss_avg(loss_value)              #add to mean loss tracker\n",
    "    train_losses[i]=epoch_loss_avg.result()     #save average train loss for epoch\n",
    "    for x,y in test_dataset:                    #iterate through all batches in validation dataset\n",
    "        loss_value, grads=grad(model, x, y)     #calculate loss, BUT DONT APPLY GRADIENTS\n",
    "        val_loss_avg(loss_value)                # add to mean val loss tracker\n",
    "    val_losses[i]=val_loss_avg.result()         #save average validation loss for epoch\n",
    "    if i%20==0:                                 #print info every 20th epoch\n",
    "        print(\"Epoch{:03d}: Train loss {:.3f}, test loss {:.3f}.\".format(i, epoch_loss_avg.result(), val_loss_avg.result()))"
   ]
  },
  {
   "cell_type": "code",
   "execution_count": 17,
   "metadata": {},
   "outputs": [
    {
     "name": "stdout",
     "output_type": "stream",
     "text": [
      "[-7.558197451756486, -5.23586401047443, -2.574705039915344, -3.669559620703625, -2.5327015127229533]\n",
      "[-8.132019465, -5.9827241275, -3.2247159266666667, -3.845365165, -2.9982032091666664]\n"
     ]
    }
   ],
   "source": [
    "preds=[]\n",
    "trues=[]\n",
    "for x,y in test_dataset:                    #iterate through all batches in validation dataset\n",
    "    pred=model(x)\n",
    "    pred=tf.reshape(pred, [-1])             #flatten output\n",
    "    true=tf.reshape(y, [-1])                #flatten true values\n",
    "    pred=list(pred.numpy())                 #turn tensor to numpy array\n",
    "    true=list(true.numpy())\n",
    "    preds=preds+pred                        #append to lists\n",
    "    trues=trues+true\n",
    "print(preds[0:5])\n",
    "print(trues[0:5])"
   ]
  },
  {
   "cell_type": "code",
   "execution_count": 18,
   "metadata": {},
   "outputs": [
    {
     "data": {
      "image/png": "[encoded data removed]",
      "text/plain": [
       "<Figure size 432x288 with 1 Axes>"
      ]
     },
     "metadata": {
      "needs_background": "light"
     },
     "output_type": "display_data"
    }
   ],
   "source": [
    "import matplotlib.colors\n",
    "from matplotlib import cm\n",
    "\n",
    "colors=cm.get_cmap('Blues', 12)(np.linspace(0,1,16))\n",
    "colors[0]=np.array([1.,1.,1.,1.])\n",
    "\n",
    "newmap = matplotlib.colors.LinearSegmentedColormap.from_list(\"\", colors)\n",
    "\n",
    "plt.plot(np.arange(-14,0+1,1),np.arange(-14,0+1,1),'--',c='black')\n",
    "plt.hist2d(trues, preds,bins=[60,45],range=[[-14,0],[-14,0]],cmap=newmap) #plt.cm.Blues\n",
    "\n",
    "plt.margins(x=0)\n",
    "plt.xlabel('True energy (eV/atom)')\n",
    "plt.ylabel('Predicted energy (eV/atom)')\n",
    "\n",
    "plt.rc('xtick',labelsize=14)\n",
    "plt.rc('axes',labelsize=16)\n",
    "plt.rc('ytick',labelsize=14)\n",
    "plt.tick_params(direction='in')\n",
    "\n",
    "plt.gca().set_xlim([-10,0])\n",
    "plt.gca().set_ylim([-10,0])\n",
    "plt.xticks(np.arange(-10,0+2,2))\n",
    "plt.gca().set_aspect(0.75)\n",
    "        \n",
    "#plt.show()\n",
    "plt.savefig('Accuracy.pdf',dpi=300,bbox_inches='tight')"
   ]
  },
  {
   "cell_type": "code",
   "execution_count": 19,
   "metadata": {},
   "outputs": [],
   "source": [
    "model.save(\"4LayerNN.h5\") #save model"
   ]
  },
  {
   "cell_type": "code",
   "execution_count": 20,
   "metadata": {},
   "outputs": [
    {
     "name": "stdout",
     "output_type": "stream",
     "text": [
      "Mean squared error on test set is: 0.8895925535400268\n"
     ]
    }
   ],
   "source": [
    "#Mean square error\n",
    "preds=np.array(preds)\n",
    "trues=np.array(trues)\n",
    "mse=np.mean(np.square(preds-trues))\n",
    "print(\"Mean squared error on test set is:\", mse)"
   ]
  },
  {
   "cell_type": "code",
   "execution_count": null,
   "metadata": {},
   "outputs": [],
   "source": []
  }
 ],
 "metadata": {
  "kernelspec": {
   "display_name": "ML",
   "language": "python",
   "name": "other-env"
  },
  "language_info": {
   "codemirror_mode": {
    "name": "ipython",
    "version": 3
   },
   "file_extension": ".py",
   "mimetype": "text/x-python",
   "name": "python",
   "nbconvert_exporter": "python",
   "pygments_lexer": "ipython3",
   "version": "3.7.5"
  }
 },
 "nbformat": 4,
 "nbformat_minor": 2
}
