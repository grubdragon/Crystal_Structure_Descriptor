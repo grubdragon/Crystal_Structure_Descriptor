{
 "cells": [
  {
   "cell_type": "code",
   "execution_count": 1,
   "metadata": {},
   "outputs": [],
   "source": [
    "import numpy as np\n",
    "import pandas as pd\n",
    "import matplotlib.pyplot as plt\n",
    "from sklearn.metrics import roc_curve, auc\n",
    "from sklearn.metrics import roc_auc_score"
   ]
  },
  {
   "cell_type": "code",
   "execution_count": 5,
   "metadata": {},
   "outputs": [],
   "source": [
    "df=pd.read_csv(\"logRegData.csv\")\n",
    "truesLin=df[\"Real_LogReg\"]\n",
    "predsLin=df[\"Pred_LogReg\"]\n",
    "\n",
    "df=pd.read_csv(\"4LayerNNData.csv\")\n",
    "truesNN=df[\"Real_4NN\"]\n",
    "predsNN=df[\"Pred_4NN\"]\n",
    "\n",
    "df=pd.read_csv(\"LGBMData.csv\")\n",
    "truesLGBM=df[\"Real_4NN\"]\n",
    "predsLGBM=df[\"Pred_4NN\"]"
   ]
  },
  {
   "cell_type": "code",
   "execution_count": 6,
   "metadata": {},
   "outputs": [
    {
     "data": {
      "text/plain": [
       "0       7.688530e-03\n",
       "1       3.769367e-04\n",
       "2       9.902901e-01\n",
       "3       1.537188e-02\n",
       "4       3.359597e-01\n",
       "5       5.098419e-01\n",
       "6       1.481047e-05\n",
       "7       1.402004e-09\n",
       "8       6.004529e-01\n",
       "9       1.258280e-01\n",
       "10      1.600172e-02\n",
       "11      4.169209e-05\n",
       "12      6.749805e-01\n",
       "13      4.653835e-05\n",
       "14      3.032198e-02\n",
       "15      4.527759e-03\n",
       "16      7.367098e-05\n",
       "17      2.811894e-02\n",
       "18      6.830098e-01\n",
       "19      2.010245e-03\n",
       "20      2.229832e-01\n",
       "21      3.199190e-04\n",
       "22      4.009992e-03\n",
       "23      2.871161e-04\n",
       "24      2.216113e-01\n",
       "25      3.467328e-03\n",
       "26      1.858088e-03\n",
       "27      1.483324e-01\n",
       "28      3.620883e-02\n",
       "29      3.702285e-03\n",
       "            ...     \n",
       "3763    1.597957e-01\n",
       "3764    8.916223e-01\n",
       "3765    3.672730e-02\n",
       "3766    1.241244e-03\n",
       "3767    4.338027e-02\n",
       "3768    5.545265e-01\n",
       "3769    2.319425e-01\n",
       "3770    1.535644e-02\n",
       "3771    7.888073e-01\n",
       "3772    2.215469e-02\n",
       "3773    2.243459e-02\n",
       "3774    5.229585e-01\n",
       "3775    8.716741e-01\n",
       "3776    4.582433e-06\n",
       "3777    6.221887e-01\n",
       "3778    9.474224e-01\n",
       "3779    1.901759e-07\n",
       "3780    5.831101e-01\n",
       "3781    2.734048e-01\n",
       "3782    1.815918e-02\n",
       "3783    9.410105e-01\n",
       "3784    9.192928e-01\n",
       "3785    5.194261e-01\n",
       "3786    6.050540e-01\n",
       "3787    3.482666e-03\n",
       "3788    4.605308e-01\n",
       "3789    5.730540e-02\n",
       "3790    9.837118e-01\n",
       "3791    1.305205e-03\n",
       "3792    7.157899e-01\n",
       "Name: Pred_4NN, Length: 3793, dtype: float64"
      ]
     },
     "execution_count": 6,
     "metadata": {},
     "output_type": "execute_result"
    }
   ],
   "source": [
    "predsNN"
   ]
  },
  {
   "cell_type": "code",
   "execution_count": 65,
   "metadata": {},
   "outputs": [
    {
     "data": {
      "image/png": "[encoded data removed]",
      "text/plain": [
       "<Figure size 432x288 with 1 Axes>"
      ]
     },
     "metadata": {
      "needs_background": "light"
     },
     "output_type": "display_data"
    }
   ],
   "source": [
    "import sklearn.metrics as metrics\n",
    "import matplotlib.pyplot as plt\n",
    "\n",
    "fpr_Lin, tpr_Lin, threshold = metrics.roc_curve(truesLin, predsLin)\n",
    "roc_auc_Lin = metrics.auc(fpr_Lin, tpr_Lin)\n",
    "\n",
    "fpr_NN, tpr_NN, threshold = metrics.roc_curve(truesNN, predsNN)\n",
    "roc_auc_NN = metrics.auc(fpr_NN, tpr_NN)\n",
    "\n",
    "fpr_LGBM, tpr_LGBM, threshold = metrics.roc_curve(truesLGBM, predsLGBM)\n",
    "roc_auc_LGBM = metrics.auc(fpr_LGBM, tpr_LGBM)\n",
    "\n",
    "plt.plot(fpr_LGBM, tpr_LGBM, 'darkblue', label = 'LGBM, AUC = %0.2f' % roc_auc_LGBM, linewidth=2,zorder=20)\n",
    "plt.plot(fpr_NN, tpr_NN, 'darkgreen', label = 'Neural net, AUC = %0.2f' % roc_auc_NN, linewidth=2,zorder=10)\n",
    "plt.plot(fpr_Lin, tpr_Lin,'darkorange', label = 'Logistic regression, AUC = %0.2f' % roc_auc_Lin, linewidth=2)\n",
    "\n",
    "plt.plot([0, 1], [0, 1],'--',c='black')\n",
    "\n",
    "plt.legend(loc = 'best',frameon = False,fontsize=10)\n",
    "\n",
    "plt.xlim([-.01, 1.])\n",
    "plt.ylim([0., 1.01])\n",
    "plt.ylabel('True Positive Rate')\n",
    "plt.xlabel('False Positive Rate')\n",
    "\n",
    "plt.tick_params(direction='in')\n",
    "#plt.xticks([-0.01,0.2,0.4,0.6,0.8,1.0],[0.0,0.2,0.4,0.6,0.8,1.0])\n",
    "#plt.yticks([0.0,0.2,0.4,0.6,0.8,1.01],[0.0,0.2,0.4,0.6,0.8,1.0])\n",
    "plt.rc('xtick',labelsize=12)\n",
    "plt.rc('axes',labelsize=12)\n",
    "plt.rc('ytick',labelsize=12)\n",
    "plt.gca().set_aspect(0.75)\n",
    "\n",
    "#plt.show()\n",
    "plt.savefig('ROC_binary.pdf',dpi=300,bbox_inches='tight')"
   ]
  },
  {
   "cell_type": "code",
   "execution_count": null,
   "metadata": {},
   "outputs": [],
   "source": []
  },
  {
   "cell_type": "code",
   "execution_count": null,
   "metadata": {},
   "outputs": [],
   "source": []
  }
 ],
 "metadata": {
  "kernelspec": {
   "display_name": "Python 3",
   "language": "python",
   "name": "python3"
  },
  "language_info": {
   "codemirror_mode": {
    "name": "ipython",
    "version": 3
   },
   "file_extension": ".py",
   "mimetype": "text/x-python",
   "name": "python",
   "nbconvert_exporter": "python",
   "pygments_lexer": "ipython3",
   "version": "3.7.3"
  }
 },
 "nbformat": 4,
 "nbformat_minor": 2
}
